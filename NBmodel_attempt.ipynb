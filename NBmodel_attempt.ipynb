{
 "cells": [
  {
   "cell_type": "markdown",
   "id": "ead06c4c",
   "metadata": {},
   "source": [
    "# South African Language Identification Hackathon 2023"
   ]
  },
  {
   "cell_type": "markdown",
   "id": "8791c95c",
   "metadata": {},
   "source": [
    "Team members:    \n",
    "\n",
    "    \n",
    "Mkhosi Kenny Myeni\n",
    "    "
   ]
  },
  {
   "cell_type": "markdown",
   "id": "6dc4a35d",
   "metadata": {},
   "source": [
    "<a id=\"cont\"></a>\n",
    "\n",
    "## Table of Contents\n",
    "\n",
    "\n",
    "<a href=#three>1. Importing packages and Libraries</a>\n",
    "\n",
    "<a href=#four>2. Data Loading and Preprocessing</a>\n",
    "\n",
    "<a href=#five>3. Exploratory Data Analysis (EDA)</a>\n",
    "\n",
    "<a href=#six>4. Feature Engineering</a>\n",
    "\n",
    "<a href=#seven>5. Model Building</a>\n",
    "\n",
    "<a href=#eight>6. Hyperparameter Tuning</a>\n",
    "\n",
    "<a href=#nine>7. Model Evaluations</a>\n",
    "\n",
    "<a href=#ten>8. Inference</a>\n",
    "\n",
    "<a href=#eleven>9. Conclusion and Recommendations</a>"
   ]
  },
  {
   "cell_type": "markdown",
   "id": "dcced46d",
   "metadata": {},
   "source": [
    "<a id=\"three\"></a>\n",
    "## 1. Importing packages and Libraries\n",
    "<a href=#cont>Back to Table of Contents</a>\n",
    "        \n",
    "        Packages and libraries that we will use in the project"
   ]
  },
  {
   "cell_type": "code",
   "execution_count": 5,
   "id": "0c735ec1",
   "metadata": {},
   "outputs": [
    {
     "name": "stderr",
     "output_type": "stream",
     "text": [
      "[nltk_data] Downloading package stopwords to\n",
      "[nltk_data]     C:\\Users\\Use\\AppData\\Roaming\\nltk_data...\n",
      "[nltk_data]   Package stopwords is already up-to-date!\n",
      "[nltk_data] Downloading package punkt to\n",
      "[nltk_data]     C:\\Users\\Use\\AppData\\Roaming\\nltk_data...\n",
      "[nltk_data]   Package punkt is already up-to-date!\n",
      "[nltk_data] Downloading package wordnet to\n",
      "[nltk_data]     C:\\Users\\Use\\AppData\\Roaming\\nltk_data...\n",
      "[nltk_data]   Package wordnet is already up-to-date!\n",
      "[nltk_data] Downloading package omw-1.4 to\n",
      "[nltk_data]     C:\\Users\\Use\\AppData\\Roaming\\nltk_data...\n"
     ]
    }
   ],
   "source": [
    "#Libraries for data loading, data manipulation\n",
    "import numpy as np\n",
    "import pandas as pd\n",
    "#Libraries for data visualisation\n",
    "import matplotlib.pyplot as plt\n",
    "import seaborn as sns\n",
    "\n",
    "import re\n",
    "\n",
    "#Text processing libraries\n",
    "import nltk\n",
    "from nltk.corpus import stopwords\n",
    "from html.parser import HTMLParser\n",
    "from nltk.stem import PorterStemmer\n",
    "from nltk.stem import WordNetLemmatizer\n",
    "from nltk.tokenize import word_tokenize\n",
    "nltk.download('stopwords')\n",
    "nltk.download('punkt')\n",
    "nltk.download('wordnet')\n",
    "nltk.download('omw-1.4')\n",
    "\n",
    "#Ignore warnings during execution\n",
    "import warnings\n",
    "warnings.filterwarnings('ignore', category=FutureWarning)\n",
    "warnings.filterwarnings('ignore', category=DeprecationWarning)\n",
    "\n",
    "from sklearn.model_selection import train_test_split\n",
    "\n",
    " \n",
    "\n",
    "from sklearn.linear_model import LogisticRegression\n",
    "from sklearn.svm import LinearSVC\n",
    "from sklearn.naive_bayes import BernoulliNB\n",
    "from sklearn.ensemble import GradientBoostingClassifier\n",
    "from sklearn.ensemble import RandomForestClassifier\n",
    "from sklearn.tree import DecisionTreeClassifier\n",
    "from sklearn.svm import SVC\n",
    "from sklearn.linear_model import PassiveAggressiveClassifier,LogisticRegression\n",
    "\n",
    "from sklearn.feature_extraction.text import CountVectorizer  \n",
    "from sklearn.feature_extraction.text import TfidfVectorizer\n",
    "\n",
    "from sklearn.metrics import accuracy_score, confusion_matrix, classification_report"
   ]
  },
  {
   "cell_type": "markdown",
   "id": "582c462b",
   "metadata": {},
   "source": [
    " <a id=\"four\"></a>\n",
    "## 2. Data Loading and Preprocessing\n",
    "<a href=#cont>Back to Table of Contents</a>\n",
    "    \n",
    "    \n",
    "        Importing the dataset containing tweet data.\n",
    "        Cleaning and preparing the text data for analysis (removing special characters, stopwords, tokenization, etc.)"
   ]
  },
  {
   "cell_type": "code",
   "execution_count": 9,
   "id": "533891a4",
   "metadata": {},
   "outputs": [],
   "source": [
    "train = pd.read_csv('train_set.csv')\n",
    "test = pd.read_csv('test_set.csv')\n",
    "sample = pd.read_csv('sample_submission.csv')"
   ]
  },
  {
   "cell_type": "code",
   "execution_count": 7,
   "id": "d3514993",
   "metadata": {},
   "outputs": [
    {
     "data": {
      "text/html": [
       "<div>\n",
       "<style scoped>\n",
       "    .dataframe tbody tr th:only-of-type {\n",
       "        vertical-align: middle;\n",
       "    }\n",
       "\n",
       "    .dataframe tbody tr th {\n",
       "        vertical-align: top;\n",
       "    }\n",
       "\n",
       "    .dataframe thead th {\n",
       "        text-align: right;\n",
       "    }\n",
       "</style>\n",
       "<table border=\"1\" class=\"dataframe\">\n",
       "  <thead>\n",
       "    <tr style=\"text-align: right;\">\n",
       "      <th></th>\n",
       "      <th>lang_id</th>\n",
       "      <th>text</th>\n",
       "    </tr>\n",
       "  </thead>\n",
       "  <tbody>\n",
       "    <tr>\n",
       "      <th>0</th>\n",
       "      <td>xho</td>\n",
       "      <td>umgaqo-siseko wenza amalungiselelo kumaziko ax...</td>\n",
       "    </tr>\n",
       "    <tr>\n",
       "      <th>1</th>\n",
       "      <td>xho</td>\n",
       "      <td>i-dha iya kuba nobulumko bokubeka umsebenzi na...</td>\n",
       "    </tr>\n",
       "    <tr>\n",
       "      <th>2</th>\n",
       "      <td>eng</td>\n",
       "      <td>the province of kwazulu-natal department of tr...</td>\n",
       "    </tr>\n",
       "    <tr>\n",
       "      <th>3</th>\n",
       "      <td>nso</td>\n",
       "      <td>o netefatša gore o ba file dilo ka moka tše le...</td>\n",
       "    </tr>\n",
       "    <tr>\n",
       "      <th>4</th>\n",
       "      <td>ven</td>\n",
       "      <td>khomishini ya ndinganyiso ya mbeu yo ewa maana...</td>\n",
       "    </tr>\n",
       "  </tbody>\n",
       "</table>\n",
       "</div>"
      ],
      "text/plain": [
       "  lang_id                                               text\n",
       "0     xho  umgaqo-siseko wenza amalungiselelo kumaziko ax...\n",
       "1     xho  i-dha iya kuba nobulumko bokubeka umsebenzi na...\n",
       "2     eng  the province of kwazulu-natal department of tr...\n",
       "3     nso  o netefatša gore o ba file dilo ka moka tše le...\n",
       "4     ven  khomishini ya ndinganyiso ya mbeu yo ewa maana..."
      ]
     },
     "execution_count": 7,
     "metadata": {},
     "output_type": "execute_result"
    }
   ],
   "source": [
    "train.head()"
   ]
  },
  {
   "cell_type": "code",
   "execution_count": 8,
   "id": "76157f55",
   "metadata": {},
   "outputs": [
    {
     "data": {
      "text/html": [
       "<div>\n",
       "<style scoped>\n",
       "    .dataframe tbody tr th:only-of-type {\n",
       "        vertical-align: middle;\n",
       "    }\n",
       "\n",
       "    .dataframe tbody tr th {\n",
       "        vertical-align: top;\n",
       "    }\n",
       "\n",
       "    .dataframe thead th {\n",
       "        text-align: right;\n",
       "    }\n",
       "</style>\n",
       "<table border=\"1\" class=\"dataframe\">\n",
       "  <thead>\n",
       "    <tr style=\"text-align: right;\">\n",
       "      <th></th>\n",
       "      <th>index</th>\n",
       "      <th>text</th>\n",
       "    </tr>\n",
       "  </thead>\n",
       "  <tbody>\n",
       "    <tr>\n",
       "      <th>0</th>\n",
       "      <td>1</td>\n",
       "      <td>Mmasepala, fa maemo a a kgethegileng a letlele...</td>\n",
       "    </tr>\n",
       "    <tr>\n",
       "      <th>1</th>\n",
       "      <td>2</td>\n",
       "      <td>Uzakwaziswa ngokufaneleko nakungafuneka eminye...</td>\n",
       "    </tr>\n",
       "    <tr>\n",
       "      <th>2</th>\n",
       "      <td>3</td>\n",
       "      <td>Tshivhumbeo tshi fana na ngano dza vhathu.</td>\n",
       "    </tr>\n",
       "    <tr>\n",
       "      <th>3</th>\n",
       "      <td>4</td>\n",
       "      <td>Kube inja nelikati betingevakala kutsi titsini...</td>\n",
       "    </tr>\n",
       "    <tr>\n",
       "      <th>4</th>\n",
       "      <td>5</td>\n",
       "      <td>Winste op buitelandse valuta.</td>\n",
       "    </tr>\n",
       "  </tbody>\n",
       "</table>\n",
       "</div>"
      ],
      "text/plain": [
       "   index                                               text\n",
       "0      1  Mmasepala, fa maemo a a kgethegileng a letlele...\n",
       "1      2  Uzakwaziswa ngokufaneleko nakungafuneka eminye...\n",
       "2      3         Tshivhumbeo tshi fana na ngano dza vhathu.\n",
       "3      4  Kube inja nelikati betingevakala kutsi titsini...\n",
       "4      5                      Winste op buitelandse valuta."
      ]
     },
     "execution_count": 8,
     "metadata": {},
     "output_type": "execute_result"
    }
   ],
   "source": [
    "test.head()"
   ]
  },
  {
   "cell_type": "code",
   "execution_count": 69,
   "id": "cb3989d1",
   "metadata": {},
   "outputs": [
    {
     "data": {
      "text/html": [
       "<div>\n",
       "<style scoped>\n",
       "    .dataframe tbody tr th:only-of-type {\n",
       "        vertical-align: middle;\n",
       "    }\n",
       "\n",
       "    .dataframe tbody tr th {\n",
       "        vertical-align: top;\n",
       "    }\n",
       "\n",
       "    .dataframe thead th {\n",
       "        text-align: right;\n",
       "    }\n",
       "</style>\n",
       "<table border=\"1\" class=\"dataframe\">\n",
       "  <thead>\n",
       "    <tr style=\"text-align: right;\">\n",
       "      <th></th>\n",
       "      <th>index</th>\n",
       "      <th>lang_id</th>\n",
       "    </tr>\n",
       "  </thead>\n",
       "  <tbody>\n",
       "    <tr>\n",
       "      <th>0</th>\n",
       "      <td>1</td>\n",
       "      <td>tsn</td>\n",
       "    </tr>\n",
       "    <tr>\n",
       "      <th>1</th>\n",
       "      <td>2</td>\n",
       "      <td>nbl</td>\n",
       "    </tr>\n",
       "  </tbody>\n",
       "</table>\n",
       "</div>"
      ],
      "text/plain": [
       "   index lang_id\n",
       "0      1     tsn\n",
       "1      2     nbl"
      ]
     },
     "execution_count": 69,
     "metadata": {},
     "output_type": "execute_result"
    }
   ],
   "source": [
    "sample.head()"
   ]
  },
  {
   "cell_type": "markdown",
   "id": "16cc4492",
   "metadata": {},
   "source": [
    "Sample dataset is viewed so it be clear what the first two predictions should be "
   ]
  },
  {
   "cell_type": "code",
   "execution_count": 12,
   "id": "ea026c0b",
   "metadata": {},
   "outputs": [
    {
     "name": "stdout",
     "output_type": "stream",
     "text": [
      "(33000, 2)\n",
      "(5682, 2)\n"
     ]
    }
   ],
   "source": [
    "print(train.shape)\n",
    "print(test.shape)"
   ]
  },
  {
   "cell_type": "markdown",
   "id": "e66fa92e",
   "metadata": {},
   "source": [
    "The training dataset has 33000 rows and 2 columns, test dataset has 5682 rows and 2 columns"
   ]
  },
  {
   "cell_type": "code",
   "execution_count": 13,
   "id": "1436154f",
   "metadata": {},
   "outputs": [
    {
     "name": "stdout",
     "output_type": "stream",
     "text": [
      "<class 'pandas.core.frame.DataFrame'>\n",
      "RangeIndex: 33000 entries, 0 to 32999\n",
      "Data columns (total 2 columns):\n",
      " #   Column   Non-Null Count  Dtype \n",
      "---  ------   --------------  ----- \n",
      " 0   lang_id  33000 non-null  object\n",
      " 1   text     33000 non-null  object\n",
      "dtypes: object(2)\n",
      "memory usage: 515.8+ KB\n"
     ]
    }
   ],
   "source": [
    "train.info()"
   ]
  },
  {
   "cell_type": "code",
   "execution_count": 14,
   "id": "594d2307",
   "metadata": {},
   "outputs": [
    {
     "name": "stdout",
     "output_type": "stream",
     "text": [
      "<class 'pandas.core.frame.DataFrame'>\n",
      "RangeIndex: 5682 entries, 0 to 5681\n",
      "Data columns (total 2 columns):\n",
      " #   Column  Non-Null Count  Dtype \n",
      "---  ------  --------------  ----- \n",
      " 0   index   5682 non-null   int64 \n",
      " 1   text    5682 non-null   object\n",
      "dtypes: int64(1), object(1)\n",
      "memory usage: 88.9+ KB\n"
     ]
    }
   ],
   "source": [
    "test.info()"
   ]
  },
  {
   "cell_type": "markdown",
   "id": "baeb5dfa",
   "metadata": {},
   "source": [
    "* Most of the features are non-numerical and will need to be processed using NLP tools and index is numerical.\n",
    "* There are no missing values but will confirm by checking for null values."
   ]
  },
  {
   "cell_type": "markdown",
   "id": "dd3ffade",
   "metadata": {},
   "source": [
    "<a id=\"five\"></a>\n",
    "## 3. Exploratory Data Analysis (EDA)\n",
    "<a href=#cont>Back to Table of Contents</a>\n",
    "\n",
    "\n",
    "    Statistical summary of the dataset for example Basic statistical insights (number of tweets)\n",
    "    Visualization: Plotting word clouds, frequency distributions, or histograms to understand \n",
    "    the distribution of sentiments and most common tweets."
   ]
  },
  {
   "cell_type": "code",
   "execution_count": 18,
   "id": "8d1dcc86",
   "metadata": {},
   "outputs": [
    {
     "name": "stdout",
     "output_type": "stream",
     "text": [
      "lang_id    0\n",
      "text       0\n",
      "dtype: int64\n",
      "index    0\n",
      "text     0\n",
      "dtype: int64\n"
     ]
    }
   ],
   "source": [
    "#check for missing values\n",
    "print(train.isna().sum())\n",
    "print(test.isna().sum())\n"
   ]
  },
  {
   "cell_type": "code",
   "execution_count": 21,
   "id": "fb2626c4",
   "metadata": {},
   "outputs": [
    {
     "data": {
      "text/plain": [
       "(33000, 2)"
      ]
     },
     "execution_count": 21,
     "metadata": {},
     "output_type": "execute_result"
    }
   ],
   "source": [
    "#check the shape of training dataset\n",
    "train.shape"
   ]
  },
  {
   "cell_type": "code",
   "execution_count": 24,
   "id": "1710ef20",
   "metadata": {},
   "outputs": [
    {
     "data": {
      "text/plain": [
       "lang_id\n",
       "xho    3000\n",
       "eng    3000\n",
       "nso    3000\n",
       "ven    3000\n",
       "tsn    3000\n",
       "nbl    3000\n",
       "zul    3000\n",
       "ssw    3000\n",
       "tso    3000\n",
       "sot    3000\n",
       "afr    3000\n",
       "Name: count, dtype: int64"
      ]
     },
     "execution_count": 24,
     "metadata": {},
     "output_type": "execute_result"
    }
   ],
   "source": [
    "#check for unique values\n",
    "train['lang_id'].value_counts()"
   ]
  },
  {
   "cell_type": "markdown",
   "id": "a6247db5",
   "metadata": {},
   "source": [
    "Shown is the number of languages and the total number of sentences in the dataset"
   ]
  },
  {
   "cell_type": "code",
   "execution_count": 23,
   "id": "4b60db19",
   "metadata": {},
   "outputs": [
    {
     "data": {
      "text/plain": [
       "index\n",
       "1       1\n",
       "3818    1\n",
       "3794    1\n",
       "3793    1\n",
       "3792    1\n",
       "       ..\n",
       "1893    1\n",
       "1892    1\n",
       "1891    1\n",
       "1890    1\n",
       "5682    1\n",
       "Name: count, Length: 5682, dtype: int64"
      ]
     },
     "execution_count": 23,
     "metadata": {},
     "output_type": "execute_result"
    }
   ],
   "source": [
    "#check for unique values\n",
    "test['index'].value_counts()"
   ]
  },
  {
   "cell_type": "code",
   "execution_count": 25,
   "id": "b615d62f",
   "metadata": {},
   "outputs": [
    {
     "data": {
      "text/plain": [
       "<Axes: xlabel='lang_id', ylabel='count'>"
      ]
     },
     "execution_count": 25,
     "metadata": {},
     "output_type": "execute_result"
    },
    {
     "data": {
      "image/png": "[encoded data removed]",
      "text/plain": [
       "<Figure size 1200x600 with 1 Axes>"
      ]
     },
     "metadata": {},
     "output_type": "display_data"
    }
   ],
   "source": [
    "plt.figure(figsize=(12,6))\n",
    "sns.countplot(x='lang_id', data=train, palette ='ocean_r')"
   ]
  },
  {
   "cell_type": "markdown",
   "id": "fd25b57b",
   "metadata": {},
   "source": [
    "Luckily all classes are evenly balanced, meaning predictive performance of models will be optimal\n"
   ]
  },
  {
   "cell_type": "markdown",
   "id": "3753329f",
   "metadata": {},
   "source": [
    "Next step is to classify independent and dependent variables, hence building the foundation for preprocessing"
   ]
  },
  {
   "cell_type": "code",
   "execution_count": 26,
   "id": "8c5a860e",
   "metadata": {},
   "outputs": [],
   "source": [
    "x = train['text']\n",
    "y = train['lang_id']\n",
    "x_ts = test['text']"
   ]
  },
  {
   "cell_type": "markdown",
   "id": "a5cf438b",
   "metadata": {},
   "source": [
    "<a id=\"six\"></a>\n",
    "## 4. Feature Engineering\n",
    "<a href=#cont>Back to Table of Contents</a>    \n",
    "    \n",
    "    \n",
    "        Extracting relevant features e.g Converting text data into a format suitable for machine learning models \n"
   ]
  },
  {
   "cell_type": "code",
   "execution_count": 29,
   "id": "f8f0d2c7",
   "metadata": {},
   "outputs": [
    {
     "data": {
      "text/html": [
       "<div>\n",
       "<style scoped>\n",
       "    .dataframe tbody tr th:only-of-type {\n",
       "        vertical-align: middle;\n",
       "    }\n",
       "\n",
       "    .dataframe tbody tr th {\n",
       "        vertical-align: top;\n",
       "    }\n",
       "\n",
       "    .dataframe thead th {\n",
       "        text-align: right;\n",
       "    }\n",
       "</style>\n",
       "<table border=\"1\" class=\"dataframe\">\n",
       "  <thead>\n",
       "    <tr style=\"text-align: right;\">\n",
       "      <th></th>\n",
       "      <th>lang_id</th>\n",
       "      <th>text</th>\n",
       "    </tr>\n",
       "  </thead>\n",
       "  <tbody>\n",
       "  </tbody>\n",
       "</table>\n",
       "</div>"
      ],
      "text/plain": [
       "Empty DataFrame\n",
       "Columns: [lang_id, text]\n",
       "Index: []"
      ]
     },
     "execution_count": 29,
     "metadata": {},
     "output_type": "execute_result"
    }
   ],
   "source": [
    "#check for rows with URL links\n",
    "pattern_url = r'http[s]?://(?:[A-Za-z]|[0-9]|[$-_@.&+]|[!*\\(\\),]|(?:%[0-9A-Fa-f][0-9A-Fa-f]))+'\n",
    "train.loc[train['text'].str.contains(pattern_url, regex=True )] "
   ]
  },
  {
   "cell_type": "markdown",
   "id": "858c9527",
   "metadata": {},
   "source": [
    "No URL links are detected in train dataset"
   ]
  },
  {
   "cell_type": "code",
   "execution_count": 33,
   "id": "8b30a7a8",
   "metadata": {},
   "outputs": [],
   "source": [
    "# creating a list for appending the preprocessed text\n",
    "df_list = []\n",
    "# iterating through all the text\n",
    "for text in x:\n",
    "       # removing the symbols and numbers\n",
    "        text = re.sub(r'[!@#$(),n\"%^*?:;~`0-9]', ' ', text)\n",
    "        # converting the text to lower case\n",
    "        text = text.lower()\n",
    "        # Tokenize the text\n",
    "        tokens = word_tokenize(text)\n",
    "        # Remove stopwords and white spaces\n",
    "        stop_words = set(stopwords.words('english'))\n",
    "        filtered_tokens = [word.strip() for word in tokens if word.lower() not in stop_words and not word.lower().startswith('rt')]\n",
    "        # appending to data_list\n",
    "        df_list.append(text)"
   ]
  },
  {
   "cell_type": "code",
   "execution_count": 34,
   "id": "4d8aacc5",
   "metadata": {},
   "outputs": [],
   "source": [
    "# creating a list for appending the preprocessed text\n",
    "df_listb = []\n",
    "# iterating through all the text\n",
    "for text in x_ts:\n",
    "       # removing the symbols and numbers\n",
    "        text = re.sub(r'[!@#$(),n\"%^*?:;~`0-9]', ' ', text)\n",
    "        # converting the text to lower case\n",
    "        text = text.lower()\n",
    "        # Tokenize the text\n",
    "        tokens = word_tokenize(text)\n",
    "        # Remove stopwords and white spaces\n",
    "        stop_words = set(stopwords.words('english'))\n",
    "        filtered_tokens = [word.strip() for word in tokens if word.lower() not in stop_words and not word.lower().startswith('rt')]\n",
    "        # appending to data_list\n",
    "        df_list.append(text)"
   ]
  },
  {
   "cell_type": "markdown",
   "id": "ad5b269f",
   "metadata": {},
   "source": [
    "Both datasets are thoroughly cleaned based on defined variables"
   ]
  },
  {
   "cell_type": "markdown",
   "id": "a85f4213",
   "metadata": {},
   "source": [
    "### Bag of words"
   ]
  },
  {
   "cell_type": "markdown",
   "id": "93ced9fb",
   "metadata": {},
   "source": [
    "The output and input feature should be of the numerical form so converting text into numerical form by using bag of words model using CountVectorizer is important"
   ]
  },
  {
   "cell_type": "code",
   "execution_count": 37,
   "id": "116a143c",
   "metadata": {},
   "outputs": [],
   "source": [
    "cv = CountVectorizer()\n",
    "x = cv.fit_transform(x)"
   ]
  },
  {
   "cell_type": "code",
   "execution_count": 38,
   "id": "df6a02d0",
   "metadata": {},
   "outputs": [
    {
     "data": {
      "text/plain": [
       "(33000, 141958)"
      ]
     },
     "execution_count": 38,
     "metadata": {},
     "output_type": "execute_result"
    }
   ],
   "source": [
    "x.shape"
   ]
  },
  {
   "cell_type": "markdown",
   "id": "0b38623d",
   "metadata": {},
   "source": [
    "Transform is again used on test dataset because scaled parameters learned from the train data to scale the test data was used"
   ]
  },
  {
   "cell_type": "code",
   "execution_count": 39,
   "id": "4bf43c2b",
   "metadata": {},
   "outputs": [
    {
     "data": {
      "text/plain": [
       "(5682, 141958)"
      ]
     },
     "execution_count": 39,
     "metadata": {},
     "output_type": "execute_result"
    }
   ],
   "source": [
    "x_ts = cv.transform(x_ts)\n",
    "x_ts.shape"
   ]
  },
  {
   "cell_type": "markdown",
   "id": "22cb7e5b",
   "metadata": {},
   "source": [
    "The Features and Labels will be split into a training set, for training the Classification Model and the validation set, for model validation. This will require the use of the train_test_split() function of Scikit-Learn (sklearn). The parameter of this function will be used to set the random_state as well as the test_size. The latter refers to how much of the data will be used for testing the trained model. For this task, the test_size parameter will be set to 20% (0.2)."
   ]
  },
  {
   "cell_type": "code",
   "execution_count": 40,
   "id": "4d3cda07",
   "metadata": {},
   "outputs": [],
   "source": [
    "x_train, x_test, y_train, y_test = train_test_split(x, y, test_size = 0.20, random_state=0)"
   ]
  },
  {
   "cell_type": "markdown",
   "id": "c49a2ae9",
   "metadata": {},
   "source": [
    "<a id=\"seven\"></a>\n",
    "## 5. Model Building\n",
    "<a href=#cont>Back to Table of Contents</a> \n",
    "    \n",
    "        Model selection: Trying different classification models (e.g., Naive Bayes, \n",
    "        Support Vector Machines, Neural Networks) to determine the most suitable for \n",
    "        sentiment classification.Training and evaluation: Training the models on the \n",
    "        training set and evaluating their performance on the test set (using accuracy, precision, recall, F1-score, etc.). "
   ]
  },
  {
   "cell_type": "code",
   "execution_count": 41,
   "id": "0fc3a50b",
   "metadata": {},
   "outputs": [
    {
     "name": "stdout",
     "output_type": "stream",
     "text": [
      "Accuracy is : 0.9940909090909091\n",
      "Report is :               precision    recall  f1-score   support\n",
      "\n",
      "         afr       1.00      1.00      1.00       587\n",
      "         eng       1.00      1.00      1.00       574\n",
      "         nbl       0.99      0.98      0.98       613\n",
      "         nso       1.00      0.99      1.00       570\n",
      "         sot       1.00      0.99      1.00       600\n",
      "         ssw       0.99      1.00      1.00       624\n",
      "         tsn       0.99      1.00      1.00       581\n",
      "         tso       1.00      1.00      1.00       597\n",
      "         ven       1.00      1.00      1.00       599\n",
      "         xho       0.99      0.99      0.99       621\n",
      "         zul       0.97      0.98      0.98       634\n",
      "\n",
      "    accuracy                           0.99      6600\n",
      "   macro avg       0.99      0.99      0.99      6600\n",
      "weighted avg       0.99      0.99      0.99      6600\n",
      "\n"
     ]
    }
   ],
   "source": [
    "svc = SVC( kernel='rbf')\n",
    "svc.fit(x_train, y_train)\n",
    "y_pred4 = svc.predict(x_test)\n",
    "\n",
    "#metrics report\n",
    "acc = accuracy_score(y_test, y_pred4)\n",
    "report = classification_report(y_test,y_pred4)\n",
    "\n",
    "print(\"Accuracy is :\",acc)\n",
    "print(\"Report is :\",report)"
   ]
  },
  {
   "cell_type": "code",
   "execution_count": 45,
   "id": "2f7f94dc",
   "metadata": {},
   "outputs": [
    {
     "name": "stdout",
     "output_type": "stream",
     "text": [
      "Accuracy is : 0.9953030303030304\n",
      "Report is :               precision    recall  f1-score   support\n",
      "\n",
      "         afr       1.00      1.00      1.00       587\n",
      "         eng       1.00      1.00      1.00       574\n",
      "         nbl       0.99      0.99      0.99       613\n",
      "         nso       1.00      1.00      1.00       570\n",
      "         sot       1.00      0.99      1.00       600\n",
      "         ssw       0.99      1.00      0.99       624\n",
      "         tsn       1.00      1.00      1.00       581\n",
      "         tso       1.00      1.00      1.00       597\n",
      "         ven       1.00      1.00      1.00       599\n",
      "         xho       1.00      0.99      0.99       621\n",
      "         zul       0.98      0.98      0.98       634\n",
      "\n",
      "    accuracy                           1.00      6600\n",
      "   macro avg       1.00      1.00      1.00      6600\n",
      "weighted avg       1.00      1.00      1.00      6600\n",
      "\n"
     ]
    }
   ],
   "source": [
    "LRmodel = LogisticRegression(C = 2, max_iter = 1000, n_jobs=-1)# Creating a logistics regression\n",
    "#fit the train data\n",
    "LRmodel.fit(x_train, y_train)\n",
    "#predict y labels\n",
    "y_pred2 = LRmodel.predict(x_test)\n",
    "\n",
    "#metrics report\n",
    "acc = accuracy_score(y_test, y_pred2)\n",
    "conf = confusion_matrix(y_test, y_pred2)\n",
    "report = classification_report(y_test,y_pred2)\n",
    "\n",
    "print(\"Accuracy is :\",acc)\n",
    "print(\"Report is :\",report)"
   ]
  },
  {
   "cell_type": "code",
   "execution_count": 73,
   "id": "b599a56e",
   "metadata": {},
   "outputs": [
    {
     "name": "stdout",
     "output_type": "stream",
     "text": [
      "Accuracy is : 0.9984848484848485\n",
      "Report is :               precision    recall  f1-score   support\n",
      "\n",
      "         afr       1.00      1.00      1.00       587\n",
      "         eng       0.99      1.00      0.99       574\n",
      "         nbl       1.00      1.00      1.00       613\n",
      "         nso       1.00      1.00      1.00       570\n",
      "         sot       1.00      1.00      1.00       600\n",
      "         ssw       1.00      1.00      1.00       624\n",
      "         tsn       1.00      1.00      1.00       581\n",
      "         tso       1.00      1.00      1.00       597\n",
      "         ven       1.00      1.00      1.00       599\n",
      "         xho       1.00      1.00      1.00       621\n",
      "         zul       1.00      0.99      1.00       634\n",
      "\n",
      "    accuracy                           1.00      6600\n",
      "   macro avg       1.00      1.00      1.00      6600\n",
      "weighted avg       1.00      1.00      1.00      6600\n",
      "\n"
     ]
    }
   ],
   "source": [
    "from sklearn.naive_bayes import ComplementNB\n",
    "Cmodel = ComplementNB()\n",
    "\n",
    "#fitting the Naive_Bayes model\n",
    "Cmodel.fit(x_train, y_train)\n",
    "\n",
    "#predicting the y labels\n",
    "y_pred1 = Cmodel.predict(x_test)\n",
    "\n",
    "#metrics reporting\n",
    "acc = accuracy_score(y_test, y_pred1)\n",
    "\n",
    "report = classification_report(y_test,y_pred1)\n",
    "\n",
    "print(\"Accuracy is :\",acc)\n",
    "#print(\"Matrix is :\",cm)\n",
    "print(\"Report is :\",report)"
   ]
  },
  {
   "cell_type": "markdown",
   "id": "f821ea8d",
   "metadata": {},
   "source": [
    "<a id=\"eight\"></a>\n",
    "## 6. Hyperparameter Tuning\n",
    "<a href=#cont>Back to Table of Contents</a> \n",
    "\n",
    "    Optimizing model parameters: Performing grid search or random search\n",
    "    to find the best hyperparameters for the chosen model(s)."
   ]
  },
  {
   "cell_type": "code",
   "execution_count": null,
   "id": "d7e44c3a",
   "metadata": {},
   "outputs": [],
   "source": []
  },
  {
   "cell_type": "markdown",
   "id": "ed0d1cdd",
   "metadata": {},
   "source": [
    "<a id=\"nine\"></a>\n",
    "## 7. Model Evaluation\n",
    "<a href=#cont>Back to Table of Contents</a> \n",
    "        \n",
    "        Evaluating the final model(s) on various metrics to determine their effectiveness in classifying sentiments."
   ]
  },
  {
   "cell_type": "code",
   "execution_count": 47,
   "id": "377f9885",
   "metadata": {},
   "outputs": [
    {
     "name": "stdout",
     "output_type": "stream",
     "text": [
      "Accuracy is : 0.9953030303030304\n"
     ]
    }
   ],
   "source": [
    "from sklearn.metrics import accuracy_score, confusion_matrix, classification_report\n",
    "ac = accuracy_score(y_test, y_pred2)\n",
    "cm = confusion_matrix(y_test, y_pred2)\n",
    "print(\"Accuracy is :\",ac)"
   ]
  },
  {
   "cell_type": "code",
   "execution_count": 51,
   "id": "c563bd97",
   "metadata": {},
   "outputs": [
    {
     "name": "stdout",
     "output_type": "stream",
     "text": [
      "Confusion matrix: \n",
      " [[587   0   0   0   0   0   0   0   0   0   0]\n",
      " [  0 573   0   0   0   1   0   0   0   0   0]\n",
      " [  0   0 606   0   0   1   0   0   0   0   6]\n",
      " [  0   0   0 570   0   0   0   0   0   0   0]\n",
      " [  0   0   0   1 597   0   2   0   0   0   0]\n",
      " [  0   0   0   0   0 624   0   0   0   0   0]\n",
      " [  0   0   0   0   0   0 581   0   0   0   0]\n",
      " [  0   0   0   0   0   0   0 597   0   0   0]\n",
      " [  0   0   0   0   0   0   0   0 599   0   0]\n",
      " [  0   0   2   0   0   0   0   0   0 614   5]\n",
      " [  0   0   5   0   0   5   0   0   0   3 621]]\n"
     ]
    }
   ],
   "source": [
    "from sklearn.metrics import accuracy_score, confusion_matrix, classification_report\n",
    "matrix = confusion_matrix(y_test, y_pred2)\n",
    "print('Confusion matrix: \\n', matrix)"
   ]
  },
  {
   "cell_type": "code",
   "execution_count": 79,
   "id": "79664965",
   "metadata": {},
   "outputs": [
    {
     "name": "stdout",
     "output_type": "stream",
     "text": [
      "Accuracy is : 0.9984848484848485\n"
     ]
    }
   ],
   "source": [
    "#from sklearn.metrics import accuracy_score, confusion_matrix, classification_report\n",
    "ac = accuracy_score(y_test, y_pred1)\n",
    "cm = confusion_matrix(y_test, y_pred1)\n",
    "print(\"Accuracy is :\",ac)"
   ]
  },
  {
   "cell_type": "code",
   "execution_count": 80,
   "id": "59fdf289",
   "metadata": {},
   "outputs": [
    {
     "name": "stdout",
     "output_type": "stream",
     "text": [
      "Confusion matrix: \n",
      " [[587   0   0   0   0   0   0   0   0   0   0]\n",
      " [  0 574   0   0   0   0   0   0   0   0   0]\n",
      " [  0   1 611   0   0   0   0   1   0   0   0]\n",
      " [  0   0   0 570   0   0   0   0   0   0   0]\n",
      " [  0   0   0   0 600   0   0   0   0   0   0]\n",
      " [  0   0   0   0   0 624   0   0   0   0   0]\n",
      " [  0   0   0   1   0   0 580   0   0   0   0]\n",
      " [  0   0   0   0   0   0   0 597   0   0   0]\n",
      " [  0   0   0   0   0   0   0   0 599   0   0]\n",
      " [  0   0   1   0   0   0   0   0   0 620   0]\n",
      " [  0   5   0   0   0   0   0   0   0   1 628]]\n"
     ]
    }
   ],
   "source": [
    "matrix = confusion_matrix(y_test, y_pred1)\n",
    "print('Confusion matrix: \\n', matrix)"
   ]
  },
  {
   "cell_type": "code",
   "execution_count": 81,
   "id": "2ec35dcc",
   "metadata": {},
   "outputs": [
    {
     "name": "stdout",
     "output_type": "stream",
     "text": [
      "Accuracy is : 0.9940909090909091\n"
     ]
    }
   ],
   "source": [
    "ac = accuracy_score(y_test, y_pred4)\n",
    "cm = confusion_matrix(y_test, y_pred4)\n",
    "print(\"Accuracy is :\",ac)"
   ]
  },
  {
   "cell_type": "code",
   "execution_count": 82,
   "id": "64d7df2a",
   "metadata": {},
   "outputs": [
    {
     "name": "stdout",
     "output_type": "stream",
     "text": [
      "Confusion matrix: \n",
      " [[585   0   0   0   0   2   0   0   0   0   0]\n",
      " [  0 573   0   0   0   1   0   0   0   0   0]\n",
      " [  0   0 601   0   0   0   0   0   0   0  12]\n",
      " [  0   0   0 567   0   0   2   0   0   1   0]\n",
      " [  0   0   0   1 597   0   2   0   0   0   0]\n",
      " [  0   0   0   0   0 623   0   0   0   0   1]\n",
      " [  0   0   0   1   0   0 580   0   0   0   0]\n",
      " [  0   0   0   0   0   0   0 597   0   0   0]\n",
      " [  0   0   0   0   0   0   0   0 599   0   0]\n",
      " [  0   0   2   0   0   0   0   0   0 615   4]\n",
      " [  0   1   5   0   0   1   0   0   0   3 624]]\n"
     ]
    }
   ],
   "source": [
    "matrix = confusion_matrix(y_test, y_pred4)\n",
    "print('Confusion matrix: \\n', matrix)"
   ]
  },
  {
   "cell_type": "code",
   "execution_count": 52,
   "id": "8cd9b55a",
   "metadata": {},
   "outputs": [
    {
     "data": {
      "text/plain": [
       "(5682, 141958)"
      ]
     },
     "execution_count": 52,
     "metadata": {},
     "output_type": "execute_result"
    }
   ],
   "source": [
    "x_ts.shape"
   ]
  },
  {
   "cell_type": "code",
   "execution_count": 76,
   "id": "d11fdcf3",
   "metadata": {},
   "outputs": [],
   "source": [
    "text_pred = Cmodel.predict(x_ts)"
   ]
  },
  {
   "cell_type": "code",
   "execution_count": 77,
   "id": "5866e72a",
   "metadata": {},
   "outputs": [],
   "source": [
    "kaggle_upl = test[['index']]\n",
    "kaggle_upl['lang_id'] = text_pred\n",
    "kaggle_upl.to_csv('sample_submission.csv', index = None)"
   ]
  },
  {
   "cell_type": "code",
   "execution_count": 78,
   "id": "ca9ea796",
   "metadata": {},
   "outputs": [
    {
     "data": {
      "text/html": [
       "<div>\n",
       "<style scoped>\n",
       "    .dataframe tbody tr th:only-of-type {\n",
       "        vertical-align: middle;\n",
       "    }\n",
       "\n",
       "    .dataframe tbody tr th {\n",
       "        vertical-align: top;\n",
       "    }\n",
       "\n",
       "    .dataframe thead th {\n",
       "        text-align: right;\n",
       "    }\n",
       "</style>\n",
       "<table border=\"1\" class=\"dataframe\">\n",
       "  <thead>\n",
       "    <tr style=\"text-align: right;\">\n",
       "      <th></th>\n",
       "      <th>index</th>\n",
       "      <th>lang_id</th>\n",
       "    </tr>\n",
       "  </thead>\n",
       "  <tbody>\n",
       "    <tr>\n",
       "      <th>0</th>\n",
       "      <td>1</td>\n",
       "      <td>tsn</td>\n",
       "    </tr>\n",
       "    <tr>\n",
       "      <th>1</th>\n",
       "      <td>2</td>\n",
       "      <td>nbl</td>\n",
       "    </tr>\n",
       "    <tr>\n",
       "      <th>2</th>\n",
       "      <td>3</td>\n",
       "      <td>ven</td>\n",
       "    </tr>\n",
       "    <tr>\n",
       "      <th>3</th>\n",
       "      <td>4</td>\n",
       "      <td>ssw</td>\n",
       "    </tr>\n",
       "    <tr>\n",
       "      <th>4</th>\n",
       "      <td>5</td>\n",
       "      <td>afr</td>\n",
       "    </tr>\n",
       "  </tbody>\n",
       "</table>\n",
       "</div>"
      ],
      "text/plain": [
       "   index lang_id\n",
       "0      1     tsn\n",
       "1      2     nbl\n",
       "2      3     ven\n",
       "3      4     ssw\n",
       "4      5     afr"
      ]
     },
     "execution_count": 78,
     "metadata": {},
     "output_type": "execute_result"
    }
   ],
   "source": [
    "sub = pd.read_csv('sample_submission.csv')\n",
    "sub.head()"
   ]
  },
  {
   "cell_type": "markdown",
   "id": "33978a2b",
   "metadata": {},
   "source": [
    "<a id=\"eleven\"></a>\n",
    "## 8. Conclusion and Recommendations\n",
    "<a href=#cont>Back to Table of Contents</a> \n",
    "\n",
    "    Summarizing findings: summarize the results obtained from the sentiment analysis.\n",
    "    Recommendations: Providing insights or suggestions based on the analysis that could\n",
    "    be beneficial for marketing strategies or further research."
   ]
  },
  {
   "cell_type": "code",
   "execution_count": null,
   "id": "cbe09806",
   "metadata": {},
   "outputs": [],
   "source": []
  },
  {
   "cell_type": "code",
   "execution_count": null,
   "id": "aa3ec17c",
   "metadata": {},
   "outputs": [],
   "source": []
  }
 ],
 "metadata": {
  "kernelspec": {
   "display_name": "Python 3 (ipykernel)",
   "language": "python",
   "name": "python3"
  },
  "language_info": {
   "codemirror_mode": {
    "name": "ipython",
    "version": 3
   },
   "file_extension": ".py",
   "mimetype": "text/x-python",
   "name": "python",
   "nbconvert_exporter": "python",
   "pygments_lexer": "ipython3",
   "version": "3.11.3"
  }
 },
 "nbformat": 4,
 "nbformat_minor": 5
}
